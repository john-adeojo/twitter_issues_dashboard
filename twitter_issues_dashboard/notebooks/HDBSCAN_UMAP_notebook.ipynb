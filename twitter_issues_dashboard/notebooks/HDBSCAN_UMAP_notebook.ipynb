{
 "cells": [
  {
   "cell_type": "code",
   "execution_count": 1,
   "id": "bfae43c7-8ca7-4292-b1ca-4499fedcd1e5",
   "metadata": {
    "tags": []
   },
   "outputs": [
    {
     "name": "stderr",
     "output_type": "stream",
     "text": [
      "C:\\Users\\johna\\anaconda3\\envs\\twitter-analytics-env\\lib\\site-packages\\tqdm\\auto.py:22: TqdmWarning: IProgress not found. Please update jupyter and ipywidgets. See https://ipywidgets.readthedocs.io/en/stable/user_install.html\n",
      "  from .autonotebook import tqdm as notebook_tqdm\n"
     ]
    }
   ],
   "source": [
    "import pandas as pd\n",
    "import plotly.express as px\n",
    "from umap.umap_ import UMAP\n",
    "import hdbscan\n",
    "from transformers import AutoTokenizer, AutoModel\n",
    "\n",
    "\n",
    "class TopicModelingPipeline:\n",
    "    def __init__(self, df):\n",
    "        self.df = df\n",
    "        self.tokenizer = AutoTokenizer.from_pretrained(\"bert-base-uncased\")\n",
    "        self.model = AutoModel.from_pretrained(\"bert-base-uncased\")\n",
    "\n",
    "    def generate_umap_embeddings(self, n_components=5, n_neighbors=15, metric='cosine', min_dist=0.1):\n",
    "        # Generate BERT embeddings for the cleaned text column\n",
    "        embeddings = []\n",
    "        for text in self.df['cleaned_text']:\n",
    "            inputs = self.tokenizer(text, return_tensors=\"pt\", padding=True, truncation=True)\n",
    "            outputs = self.model(**inputs)[1].detach().numpy()\n",
    "            embeddings.append(outputs)\n",
    "\n",
    "        # Perform dimensionality reduction with UMAP\n",
    "        umap_embeddings = UMAP(\n",
    "            n_components=n_components,\n",
    "            n_neighbors=n_neighbors,\n",
    "            metric=metric,\n",
    "            min_dist=min_dist\n",
    "        ).fit_transform(embeddings)\n",
    "\n",
    "        # Visualize the UMAP embeddings\n",
    "        fig = px.scatter(x=umap_embeddings[:,0], y=umap_embeddings[:,1])\n",
    "        fig.show()\n",
    "\n",
    "        return umap_embeddings\n",
    "\n",
    "    def generate_hdbscan_clusters(self, umap_embeddings, min_cluster_size=10, min_samples=1, cluster_selection_epsilon=0.5):\n",
    "        # Generate topic clusters with HDBSCAN\n",
    "        clusterer = hdbscan.HDBSCAN(\n",
    "            min_cluster_size=min_cluster_size,\n",
    "            min_samples=min_samples,\n",
    "            cluster_selection_epsilon=cluster_selection_epsilon\n",
    "        ).fit(umap_embeddings)\n",
    "\n",
    "        return clusterer.labels_\n",
    "\n",
    "    def visualize_clusters(self, umap_embeddings, cluster_labels):\n",
    "        # Visualize the HDBSCAN clusters against the UMAP embeddings\n",
    "        fig = px.scatter(\n",
    "            x=umap_embeddings[:,0],\n",
    "            y=umap_embeddings[:,1],\n",
    "            color=cluster_labels,\n",
    "            hover_data=[self.df['cleaned_text']]\n",
    "        )\n",
    "        fig.show()"
   ]
  },
  {
   "cell_type": "code",
   "execution_count": 3,
   "id": "feaa4d33-a5c6-4852-b1be-d4d33f3bb5a4",
   "metadata": {
    "tags": []
   },
   "outputs": [],
   "source": [
    "import os\n",
    "import sys\n",
    "\n",
    "notebook_dir = os.path.dirname(os.path.abspath(\"__file__\"))\n",
    "project_dir = os.path.dirname(notebook_dir)\n",
    "\n",
    "if project_dir not in sys.path:\n",
    "    sys.path.append(project_dir)\n"
   ]
  },
  {
   "cell_type": "code",
   "execution_count": 4,
   "id": "a23a2aa0-289f-420c-a1b3-51111dc78d46",
   "metadata": {},
   "outputs": [],
   "source": [
    "df = pd.read_csv(r\"C:\\Users\\johna\\anaconda3\\envs\\twitter-analytics-env\\twitter_issues_dashboard\\twitter_issues_dashboard\\data\\01_raw\\tweets_details2023-03-15_20-43-36.csv\")"
   ]
  },
  {
   "cell_type": "code",
   "execution_count": 5,
   "id": "9b6e0f3e-bb05-4147-801c-b86dd190c032",
   "metadata": {
    "tags": []
   },
   "outputs": [],
   "source": [
    "# clean text \n",
    "from data_processing.preprocess_tweets import TextCleaner\n",
    "\n",
    "cleaner = TextCleaner()\n",
    "df['cleaned_text'] = df['text'].apply(cleaner.clean_text)"
   ]
  },
  {
   "cell_type": "code",
   "execution_count": 6,
   "id": "ab67b39c-d726-417b-bad5-a428461e2253",
   "metadata": {
    "tags": []
   },
   "outputs": [
    {
     "name": "stderr",
     "output_type": "stream",
     "text": [
      "Downloading (…)okenizer_config.json: 100%|██████████████████████████████████████████| 28.0/28.0 [00:00<00:00, 4.00kB/s]\n",
      "Downloading (…)lve/main/config.json: 100%|█████████████████████████████████████████████| 570/570 [00:00<00:00, 142kB/s]\n",
      "Downloading (…)solve/main/vocab.txt: 100%|███████████████████████████████████████████| 232k/232k [00:00<00:00, 912kB/s]\n",
      "Downloading (…)/main/tokenizer.json: 100%|██████████████████████████████████████████| 466k/466k [00:00<00:00, 1.38MB/s]\n",
      "Downloading pytorch_model.bin: 100%|████████████████████████████████████████████████| 440M/440M [00:27<00:00, 16.3MB/s]\n",
      "Some weights of the model checkpoint at bert-base-uncased were not used when initializing BertModel: ['cls.seq_relationship.weight', 'cls.predictions.decoder.weight', 'cls.seq_relationship.bias', 'cls.predictions.transform.dense.weight', 'cls.predictions.bias', 'cls.predictions.transform.LayerNorm.weight', 'cls.predictions.transform.dense.bias', 'cls.predictions.transform.LayerNorm.bias']\n",
      "- This IS expected if you are initializing BertModel from the checkpoint of a model trained on another task or with another architecture (e.g. initializing a BertForSequenceClassification model from a BertForPreTraining model).\n",
      "- This IS NOT expected if you are initializing BertModel from the checkpoint of a model that you expect to be exactly identical (initializing a BertForSequenceClassification model from a BertForSequenceClassification model).\n"
     ]
    }
   ],
   "source": [
    "topicmodel = TopicModelingPipeline(df)"
   ]
  },
  {
   "cell_type": "code",
   "execution_count": null,
   "id": "52389ca4-253b-4da4-82c2-69db7c8b647f",
   "metadata": {
    "tags": []
   },
   "outputs": [],
   "source": [
    "embeddings = topicmodel.generate_umap_embeddings()"
   ]
  },
  {
   "cell_type": "code",
   "execution_count": null,
   "id": "446409ba-7f19-43c3-b2d3-8b0bfabf5391",
   "metadata": {},
   "outputs": [],
   "source": []
  }
 ],
 "metadata": {
  "kernelspec": {
   "display_name": "Python 3 (ipykernel)",
   "language": "python",
   "name": "python3"
  },
  "language_info": {
   "codemirror_mode": {
    "name": "ipython",
    "version": 3
   },
   "file_extension": ".py",
   "mimetype": "text/x-python",
   "name": "python",
   "nbconvert_exporter": "python",
   "pygments_lexer": "ipython3",
   "version": "3.9.16"
  }
 },
 "nbformat": 4,
 "nbformat_minor": 5
}
