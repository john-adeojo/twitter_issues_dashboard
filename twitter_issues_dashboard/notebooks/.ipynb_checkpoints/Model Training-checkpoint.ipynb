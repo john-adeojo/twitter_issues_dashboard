{
 "cells": [
  {
   "cell_type": "code",
   "execution_count": 1,
   "id": "d2dbef61-fda6-4ab2-b20c-c3e52c887378",
   "metadata": {
    "tags": []
   },
   "outputs": [],
   "source": [
    "import os\n",
    "import sys\n",
    "\n",
    "notebook_dir = os.path.dirname(os.path.abspath(\"__file__\"))\n",
    "project_dir = os.path.dirname(notebook_dir)\n",
    "\n",
    "if project_dir not in sys.path:\n",
    "    sys.path.append(project_dir)"
   ]
  },
  {
   "cell_type": "code",
   "execution_count": null,
   "id": "7743c783-0f05-414c-99f2-26c2c88a82c5",
   "metadata": {
    "tags": []
   },
   "outputs": [],
   "source": [
    "import pandas as pd\n",
    "df_a = pd.read_csv(r\"C:\\Users\\johna\\anaconda3\\envs\\twitter-analytics-env\\twitter_issues_dashboard\\twitter_issues_dashboard\\data\\02_intermediate\\training_data.csv\")\n",
    "mapping = pd.read_csv(r\"C:\\Users\\johna\\anaconda3\\envs\\twitter-analytics-env\\twitter_issues_dashboard\\twitter_issues_dashboard\\data\\02_intermediate\\topic_mapping.csv\")\n",
    "\n",
    "df = df_a.merge(right=mapping, how='inner', right_on='topic_sortedc_str', left_on='topic_sortedc_str')[['cleaned_text', 'topic_hl']]\n",
    "df['topic_hl_encoded'] = df['topic_hl'].astype(\"category\").cat.codes\n",
    "df"
   ]
  },
  {
   "cell_type": "code",
   "execution_count": null,
   "id": "369711de-0d1a-4222-8233-4b14641ad81b",
   "metadata": {
    "tags": []
   },
   "outputs": [],
   "source": [
    "from machine_learning.preprocess_ml import DataPipeline"
   ]
  },
  {
   "cell_type": "code",
   "execution_count": null,
   "id": "5f0983aa-17a9-4947-b405-e93db5695d06",
   "metadata": {
    "tags": []
   },
   "outputs": [],
   "source": [
    "pipeline = DataPipeline(df, target_col='topic_hl_encoded', model='cardiffnlp/twitter-xlm-roberta-base')\n",
    "train_loader = pipeline.get_train_data(batch_size=16)\n",
    "val_loader = pipeline.get_val_data(batch_size=16)\n",
    "test_loader = pipeline.get_test_data(batch_size=16)"
   ]
  },
  {
   "cell_type": "code",
   "execution_count": null,
   "id": "d0b4eede-d873-421e-8900-84ec1d8f7f76",
   "metadata": {
    "tags": []
   },
   "outputs": [],
   "source": [
    "from machine_learning.train_models import TransformerFineTuner"
   ]
  },
  {
   "cell_type": "code",
   "execution_count": null,
   "id": "1fb869b4-9000-40f2-a96d-56f970388c75",
   "metadata": {
    "tags": []
   },
   "outputs": [],
   "source": [
    "output_dir = r\"C:\\Users\\johna\\OneDrive\\Desktop\\models_twitter_dash\\output\"\n",
    "logging_dir = r\"C:\\Users\\johna\\OneDrive\\Desktop\\models_twitter_dash\\logging\"\n",
    "\n",
    "transformer_fine_tuner = TransformerFineTuner(train_loader, val_loader, 'cardiffnlp/twitter-roberta-base', 3, output_dir, logging_dir)\n",
    "transformer_fine_tuner.train()"
   ]
  },
  {
   "cell_type": "code",
   "execution_count": null,
   "id": "587ec1ad-5e60-41fb-b6d2-ebcce1f8ee24",
   "metadata": {},
   "outputs": [],
   "source": []
  }
 ],
 "metadata": {
  "kernelspec": {
   "display_name": "Python 3 (ipykernel)",
   "language": "python",
   "name": "python3"
  },
  "language_info": {
   "codemirror_mode": {
    "name": "ipython",
    "version": 3
   },
   "file_extension": ".py",
   "mimetype": "text/x-python",
   "name": "python",
   "nbconvert_exporter": "python",
   "pygments_lexer": "ipython3",
   "version": "3.9.16"
  }
 },
 "nbformat": 4,
 "nbformat_minor": 5
}
