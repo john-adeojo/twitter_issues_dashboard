{
 "cells": [
  {
   "cell_type": "code",
   "execution_count": 2,
   "id": "0f417531-d48a-4788-8c68-ea1c0e354462",
   "metadata": {},
   "outputs": [
    {
     "name": "stderr",
     "output_type": "stream",
     "text": [
      "C:\\Users\\johna\\anaconda3\\envs\\twitter-analytics-env\\lib\\site-packages\\tqdm\\auto.py:22: TqdmWarning: IProgress not found. Please update jupyter and ipywidgets. See https://ipywidgets.readthedocs.io/en/stable/user_install.html\n",
      "  from .autonotebook import tqdm as notebook_tqdm\n"
     ]
    }
   ],
   "source": [
    "import pandas as pd\n",
    "import plotly.express as px\n",
    "import numpy as np\n",
    "from umap.umap_ import UMAP\n",
    "import hdbscan\n",
    "from transformers import AutoTokenizer, AutoModel"
   ]
  },
  {
   "cell_type": "code",
   "execution_count": 3,
   "id": "feaa4d33-a5c6-4852-b1be-d4d33f3bb5a4",
   "metadata": {
    "tags": []
   },
   "outputs": [],
   "source": [
    "import os\n",
    "import sys\n",
    "\n",
    "notebook_dir = os.path.dirname(os.path.abspath(\"__file__\"))\n",
    "project_dir = os.path.dirname(notebook_dir)\n",
    "\n",
    "if project_dir not in sys.path:\n",
    "    sys.path.append(project_dir)\n"
   ]
  },
  {
   "cell_type": "code",
   "execution_count": 4,
   "id": "a23a2aa0-289f-420c-a1b3-51111dc78d46",
   "metadata": {},
   "outputs": [],
   "source": [
    "df = pd.read_csv(r\"C:\\Users\\johna\\anaconda3\\envs\\twitter-analytics-env\\twitter_issues_dashboard\\twitter_issues_dashboard\\data\\01_raw\\tweets_details2023-03-15_20-43-36.csv\")"
   ]
  },
  {
   "cell_type": "code",
   "execution_count": 5,
   "id": "9b6e0f3e-bb05-4147-801c-b86dd190c032",
   "metadata": {
    "tags": []
   },
   "outputs": [],
   "source": [
    "# clean text \n",
    "from data_processing.preprocess_tweets import TextCleaner\n",
    "\n",
    "cleaner = TextCleaner()\n",
    "df['cleaned_text'] = df['text'].apply(cleaner.clean_text)"
   ]
  },
  {
   "cell_type": "code",
   "execution_count": 6,
   "id": "dda55dac-0fbb-4df4-822e-63433d9d2ed5",
   "metadata": {
    "tags": []
   },
   "outputs": [],
   "source": [
    "from topic_modeling.bert_umap_topic import TopicModelingPipeline"
   ]
  },
  {
   "cell_type": "code",
   "execution_count": 7,
   "id": "ab67b39c-d726-417b-bad5-a428461e2253",
   "metadata": {
    "tags": []
   },
   "outputs": [
    {
     "name": "stderr",
     "output_type": "stream",
     "text": [
      "Some weights of the model checkpoint at bert-base-uncased were not used when initializing BertModel: ['cls.seq_relationship.bias', 'cls.predictions.transform.LayerNorm.weight', 'cls.predictions.transform.dense.bias', 'cls.predictions.decoder.weight', 'cls.predictions.transform.dense.weight', 'cls.predictions.transform.LayerNorm.bias', 'cls.seq_relationship.weight', 'cls.predictions.bias']\n",
      "- This IS expected if you are initializing BertModel from the checkpoint of a model trained on another task or with another architecture (e.g. initializing a BertForSequenceClassification model from a BertForPreTraining model).\n",
      "- This IS NOT expected if you are initializing BertModel from the checkpoint of a model that you expect to be exactly identical (initializing a BertForSequenceClassification model from a BertForSequenceClassification model).\n"
     ]
    }
   ],
   "source": [
    "topicmodel = TopicModelingPipeline(df)"
   ]
  },
  {
   "cell_type": "code",
   "execution_count": null,
   "id": "52389ca4-253b-4da4-82c2-69db7c8b647f",
   "metadata": {
    "tags": []
   },
   "outputs": [],
   "source": [
    "embeddings = topicmodel.generate_umap_embeddings()"
   ]
  },
  {
   "cell_type": "code",
   "execution_count": null,
   "id": "446409ba-7f19-43c3-b2d3-8b0bfabf5391",
   "metadata": {
    "tags": []
   },
   "outputs": [],
   "source": [
    "clusters = topicmodel.generate_hdbscan_clusters(embeddings)"
   ]
  },
  {
   "cell_type": "code",
   "execution_count": null,
   "id": "6c50a766-a374-4981-847a-6388da146e46",
   "metadata": {
    "tags": []
   },
   "outputs": [],
   "source": [
    "topicmodel.visualize_clusters(embeddings, clusters)"
   ]
  },
  {
   "cell_type": "code",
   "execution_count": null,
   "id": "f5c79670-003a-41fd-97eb-ec55804a55ad",
   "metadata": {},
   "outputs": [],
   "source": []
  }
 ],
 "metadata": {
  "kernelspec": {
   "display_name": "Python 3 (ipykernel)",
   "language": "python",
   "name": "python3"
  },
  "language_info": {
   "codemirror_mode": {
    "name": "ipython",
    "version": 3
   },
   "file_extension": ".py",
   "mimetype": "text/x-python",
   "name": "python",
   "nbconvert_exporter": "python",
   "pygments_lexer": "ipython3",
   "version": "3.9.16"
  }
 },
 "nbformat": 4,
 "nbformat_minor": 5
}
