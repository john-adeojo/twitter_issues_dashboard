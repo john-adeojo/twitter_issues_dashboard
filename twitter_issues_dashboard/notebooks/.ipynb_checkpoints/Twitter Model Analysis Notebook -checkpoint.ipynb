{
 "cells": [
  {
   "cell_type": "markdown",
   "id": "bf555725-5fb8-42af-a8a4-f3194199c224",
   "metadata": {},
   "source": [
    "# Notebook for Model Analysis \n",
    "This notebook is inteded to complement the medium article. \n",
    "The purpose is to assess the peformance of the finetuned models on the test data set.\n",
    "\n",
    "Date 20/03/2023\n",
    "\n",
    "### Data Scientist: John Adeojo https://www.john-adeojo.com/\n",
    "### Linked in: https://www.linkedin.com/in/john-adeojo/\n",
    "### Medium: https://johnadeojo.medium.com/\n",
    "### Hugging Face: https://huggingface.co/Johnade"
   ]
  },
  {
   "cell_type": "code",
   "execution_count": 2,
   "id": "2ad10d7b-423f-480c-9b20-fb27908d1553",
   "metadata": {},
   "outputs": [],
   "source": [
    "import pandas as pd\n",
    "import numpy as np"
   ]
  },
  {
   "cell_type": "markdown",
   "id": "e6333325-b14a-4bd4-b623-9f2c141f498a",
   "metadata": {},
   "source": [
    "# Read in Training, Test and Validation data "
   ]
  },
  {
   "cell_type": "code",
   "execution_count": 38,
   "id": "9cdef5a6-ff1f-4bc0-ad1f-c6a96eea05b3",
   "metadata": {},
   "outputs": [],
   "source": [
    "test = r\"C:\\Users\\johna\\anaconda3\\envs\\twitter-analytics-env\\twitter_issues_dashboard\\twitter_issues_dashboard\\data\\03_feature_bank\\test_df.csv\"\n",
    "train = r\"C:\\Users\\johna\\anaconda3\\envs\\twitter-analytics-env\\twitter_issues_dashboard\\twitter_issues_dashboard\\data\\03_feature_bank\\train_df.csv\"\n",
    "validation = r\"C:\\Users\\johna\\anaconda3\\envs\\twitter-analytics-env\\twitter_issues_dashboard\\twitter_issues_dashboard\\data\\03_feature_bank\\val_df.csv\"\n",
    "\n",
    "train_df = pd.read_csv(train)\n",
    "val_df = pd.read_csv(validation)\n",
    "test_df = pd.read_csv(test)\n",
    "\n",
    "train_df = train_df[['cleaned_text', 'topic_hl']]\n",
    "val_df = val_df[['cleaned_text', 'topic_hl']]\n",
    "test_df = test_df[['cleaned_text', 'topic_hl']]\n",
    "test_df['cat codes'] = test_df['topic_hl'].astype(\"category\").cat.codes"
   ]
  },
  {
   "cell_type": "code",
   "execution_count": 39,
   "id": "73f5a408-74f0-409d-8d61-1cdd3a8fa366",
   "metadata": {
    "tags": []
   },
   "outputs": [
    {
     "data": {
      "text/html": [
       "<div>\n",
       "<style scoped>\n",
       "    .dataframe tbody tr th:only-of-type {\n",
       "        vertical-align: middle;\n",
       "    }\n",
       "\n",
       "    .dataframe tbody tr th {\n",
       "        vertical-align: top;\n",
       "    }\n",
       "\n",
       "    .dataframe thead th {\n",
       "        text-align: right;\n",
       "    }\n",
       "</style>\n",
       "<table border=\"1\" class=\"dataframe\">\n",
       "  <thead>\n",
       "    <tr style=\"text-align: right;\">\n",
       "      <th></th>\n",
       "      <th>cleaned_text</th>\n",
       "      <th>topic_hl</th>\n",
       "      <th>cat codes</th>\n",
       "    </tr>\n",
       "  </thead>\n",
       "  <tbody>\n",
       "    <tr>\n",
       "      <th>0</th>\n",
       "      <td>So excited to get this delivery from the posti...</td>\n",
       "      <td>Customer Service</td>\n",
       "      <td>0</td>\n",
       "    </tr>\n",
       "    <tr>\n",
       "      <th>1</th>\n",
       "      <td>#royalmail  chief lost his job after #loosing ...</td>\n",
       "      <td>Customer Service</td>\n",
       "      <td>0</td>\n",
       "    </tr>\n",
       "    <tr>\n",
       "      <th>2</th>\n",
       "      <td>#RoyalMail are “in”</td>\n",
       "      <td>Customer Service</td>\n",
       "      <td>0</td>\n",
       "    </tr>\n",
       "    <tr>\n",
       "      <th>3</th>\n",
       "      <td>Oh no a crappy, archaic service provider is pr...</td>\n",
       "      <td>Customer Service</td>\n",
       "      <td>0</td>\n",
       "    </tr>\n",
       "    <tr>\n",
       "      <th>4</th>\n",
       "      <td>Yesterday we got three items of junk mail - on...</td>\n",
       "      <td>Customer Service</td>\n",
       "      <td>0</td>\n",
       "    </tr>\n",
       "    <tr>\n",
       "      <th>...</th>\n",
       "      <td>...</td>\n",
       "      <td>...</td>\n",
       "      <td>...</td>\n",
       "    </tr>\n",
       "    <tr>\n",
       "      <th>520</th>\n",
       "      <td>#Investor revolt over #RoyalMail boss's pay de...</td>\n",
       "      <td>Politics</td>\n",
       "      <td>3</td>\n",
       "    </tr>\n",
       "    <tr>\n",
       "      <th>521</th>\n",
       "      <td>#RoyalMail in talks to permanently ditch Satur...</td>\n",
       "      <td>Customer Service</td>\n",
       "      <td>0</td>\n",
       "    </tr>\n",
       "    <tr>\n",
       "      <th>522</th>\n",
       "      <td>@RichardpanterH1 @lucyeyeington Totally agree ...</td>\n",
       "      <td>Customer Service</td>\n",
       "      <td>0</td>\n",
       "    </tr>\n",
       "    <tr>\n",
       "      <th>523</th>\n",
       "      <td>Royal Mail are taking the royal biscuit tbh</td>\n",
       "      <td>Customer Service</td>\n",
       "      <td>0</td>\n",
       "    </tr>\n",
       "    <tr>\n",
       "      <th>524</th>\n",
       "      <td>#borisjohnson we are now a country without a p...</td>\n",
       "      <td>Customer Service</td>\n",
       "      <td>0</td>\n",
       "    </tr>\n",
       "  </tbody>\n",
       "</table>\n",
       "<p>525 rows × 3 columns</p>\n",
       "</div>"
      ],
      "text/plain": [
       "                                          cleaned_text          topic_hl  \\\n",
       "0    So excited to get this delivery from the posti...  Customer Service   \n",
       "1    #royalmail  chief lost his job after #loosing ...  Customer Service   \n",
       "2                                 #RoyalMail are “in”   Customer Service   \n",
       "3    Oh no a crappy, archaic service provider is pr...  Customer Service   \n",
       "4    Yesterday we got three items of junk mail - on...  Customer Service   \n",
       "..                                                 ...               ...   \n",
       "520  #Investor revolt over #RoyalMail boss's pay de...          Politics   \n",
       "521  #RoyalMail in talks to permanently ditch Satur...  Customer Service   \n",
       "522  @RichardpanterH1 @lucyeyeington Totally agree ...  Customer Service   \n",
       "523        Royal Mail are taking the royal biscuit tbh  Customer Service   \n",
       "524  #borisjohnson we are now a country without a p...  Customer Service   \n",
       "\n",
       "     cat codes  \n",
       "0            0  \n",
       "1            0  \n",
       "2            0  \n",
       "3            0  \n",
       "4            0  \n",
       "..         ...  \n",
       "520          3  \n",
       "521          0  \n",
       "522          0  \n",
       "523          0  \n",
       "524          0  \n",
       "\n",
       "[525 rows x 3 columns]"
      ]
     },
     "execution_count": 39,
     "metadata": {},
     "output_type": "execute_result"
    }
   ],
   "source": [
    "test_df"
   ]
  },
  {
   "cell_type": "markdown",
   "id": "bf9c4c4b-8b6c-4e18-a294-d32e6e1d3262",
   "metadata": {},
   "source": [
    "# Function for Running Inference"
   ]
  },
  {
   "cell_type": "code",
   "execution_count": 40,
   "id": "5dc7e2b0-d356-46b3-b13a-85dc6dbefe54",
   "metadata": {
    "tags": []
   },
   "outputs": [],
   "source": [
    "import pandas as pd\n",
    "import numpy as np\n",
    "from sklearn.metrics import precision_recall_fscore_support, confusion_matrix\n",
    "import seaborn as sns\n",
    "import matplotlib.pyplot as plt\n",
    "from transformers import AutoModelForSequenceClassification, AutoTokenizer, pipeline\n",
    "\n",
    "import re\n",
    "\n",
    "def extract_values(x):\n",
    "    # extract predicted class and probability from 'inference' column using regex pattern matching\n",
    "    match = re.match(r\"\\[(.*?)\\]\", x[\"inference\"])\n",
    "    if match:\n",
    "        predicted_class = match.group(1).split(\",\")[0].split(\":\")[1].strip().strip(\"'\")\n",
    "        prob = float(match.group(1).split(\",\")[1].split(\":\")[1].strip())\n",
    "    else:\n",
    "        predicted_class = \"\"\n",
    "        prob = 0.0\n",
    "    \n",
    "    return pd.Series({\"predicted_class\": predicted_class, \"prob\": prob})\n",
    "\n",
    "\n",
    "\n",
    "\n",
    "def perform_inference(df, MODEL, model_path):\n",
    "    _df = df.copy()\n",
    "\n",
    "    # load model\n",
    "    model = AutoModelForSequenceClassification.from_pretrained(model_path)\n",
    "\n",
    "    # Set up tokenizer\n",
    "    tokenizer = AutoTokenizer.from_pretrained(MODEL)\n",
    "\n",
    "    # set up pipeline\n",
    "    classifier = pipeline(\n",
    "        \"text-classification\", model=model, tokenizer=tokenizer, device=0\n",
    "    )\n",
    "\n",
    "    # perform inference and extract predicted class and probability\n",
    "    _df[\"inference\"] = classifier(list(df[\"cleaned_text\"]), truncation=True)\n",
    "    _df[\"inference\"] = _df[\"inference\"].astype(str)\n",
    "    _df[[\"predicted_class\", \"prob\"]] = _df.apply(extract_values, axis=1)\n",
    "\n",
    "    # convert predicted class to numeric code\n",
    "    _df[\"predicted_code\"] = pd.Categorical(_df[\"predicted_class\"]).codes\n",
    "\n",
    "    return _df\n",
    "\n",
    "\n",
    "\n",
    "def classification_metrics(df, title):\n",
    "    y_true = df['cat codes']\n",
    "    y_pred = df['predicted_code']\n",
    "    labels = sorted(list(set(y_true)))\n",
    "    \n",
    "    # calculate metrics at the class level\n",
    "    precision, recall, f1, support = precision_recall_fscore_support(y_true, y_pred, labels=labels, average=None)\n",
    "    \n",
    "    # calculate macro-average metrics\n",
    "    macro_precision, macro_recall, macro_f1, _ = precision_recall_fscore_support(y_true, y_pred, average='macro')\n",
    "    \n",
    "    # calculate overall accuracy\n",
    "    accuracy = np.mean(y_true == y_pred)\n",
    "    \n",
    "    # print metrics at the class level\n",
    "    print('Class level metrics:')\n",
    "    metrics_dict = {'Precision': precision, 'Recall': recall, 'F1': f1, 'Support': support}\n",
    "    metrics_df = pd.DataFrame(metrics_dict, index=labels)\n",
    "    print(metrics_df)\n",
    "    \n",
    "    # print macro-average metrics\n",
    "    print('\\nMacro-average metrics:')\n",
    "    print('Precision: {:.2f}'.format(macro_precision))\n",
    "    print('Recall: {:.2f}'.format(macro_recall))\n",
    "    print('F1: {:.2f}'.format(macro_f1))\n",
    "    \n",
    "    # print overall accuracy\n",
    "    print('\\nOverall accuracy: {:.2f}'.format(accuracy))\n",
    "    \n",
    "    # create confusion matrix heat map\n",
    "    cm = confusion_matrix(y_true, y_pred, labels=labels)\n",
    "    cm_df = pd.DataFrame(cm, index=labels, columns=labels)\n",
    "    plt.figure(figsize=(10,7))\n",
    "    sns.heatmap(cm_df, annot=True, cmap='Blues', fmt='g')\n",
    "    plt.xlabel('Predicted label')\n",
    "    plt.ylabel('True label')\n",
    "    plt.title(title)\n",
    "    # plt.savefig(r'C:\\Users\\johna\\anaconda3\\envs\\twitter-env-2\\Data\\03 Reports\\matrix_' + title + '.png')\n",
    "    plt.show()\n"
   ]
  },
  {
   "cell_type": "markdown",
   "id": "8cf930ec-1b4a-4c5b-92a9-05fdd704914d",
   "metadata": {},
   "source": [
    "# Run Inference"
   ]
  },
  {
   "cell_type": "code",
   "execution_count": 45,
   "id": "b4c00302-d11c-4e13-9b9a-1215cc205f37",
   "metadata": {},
   "outputs": [
    {
     "name": "stderr",
     "output_type": "stream",
     "text": [
      "Asking to truncate to max_length but no maximum length is provided and the model has no predefined maximum length. Default to no truncation.\n"
     ]
    }
   ],
   "source": [
    "test_prediction_df = perform_inference(df=test_df, MODEL=\"cardiffnlp/twitter-roberta-base\", model_path=r\"C:\\Users\\johna\\OneDrive\\Desktop\\models_twitter_dash\\output\")"
   ]
  },
  {
   "cell_type": "code",
   "execution_count": 46,
   "id": "55da1b17-154f-45ca-9f03-7939f8a3b327",
   "metadata": {},
   "outputs": [
    {
     "name": "stderr",
     "output_type": "stream",
     "text": [
      "C:\\Users\\johna\\anaconda3\\envs\\twitter-analytics-env\\lib\\site-packages\\sklearn\\metrics\\_classification.py:1344: UndefinedMetricWarning: Precision and F-score are ill-defined and being set to 0.0 in labels with no predicted samples. Use `zero_division` parameter to control this behavior.\n",
      "  _warn_prf(average, modifier, msg_start, len(result))\n",
      "C:\\Users\\johna\\anaconda3\\envs\\twitter-analytics-env\\lib\\site-packages\\sklearn\\metrics\\_classification.py:1344: UndefinedMetricWarning: Precision and F-score are ill-defined and being set to 0.0 in labels with no predicted samples. Use `zero_division` parameter to control this behavior.\n",
      "  _warn_prf(average, modifier, msg_start, len(result))\n"
     ]
    },
    {
     "name": "stdout",
     "output_type": "stream",
     "text": [
      "Class level metrics:\n",
      "   Precision  Recall        F1  Support\n",
      "0   0.739048     1.0  0.849945      388\n",
      "1   0.000000     0.0  0.000000       29\n",
      "2   0.000000     0.0  0.000000       23\n",
      "3   0.000000     0.0  0.000000       25\n",
      "4   0.000000     0.0  0.000000       35\n",
      "5   0.000000     0.0  0.000000       25\n",
      "\n",
      "Macro-average metrics:\n",
      "Precision: 0.12\n",
      "Recall: 0.17\n",
      "F1: 0.14\n",
      "\n",
      "Overall accuracy: 0.74\n"
     ]
    },
    {
     "data": {
      "image/png": "[encoded data removed]",
      "text/plain": [
       "<Figure size 1000x700 with 2 Axes>"
      ]
     },
     "metadata": {},
     "output_type": "display_data"
    }
   ],
   "source": [
    "classification_metrics(test_prediction_df, 'twitter-roberta-base-royal-mail')"
   ]
  },
  {
   "cell_type": "code",
   "execution_count": 27,
   "id": "7df5318b-960d-477d-b614-1f3b8dea5af3",
   "metadata": {
    "tags": []
   },
   "outputs": [
    {
     "data": {
      "text/html": [
       "<div>\n",
       "<style scoped>\n",
       "    .dataframe tbody tr th:only-of-type {\n",
       "        vertical-align: middle;\n",
       "    }\n",
       "\n",
       "    .dataframe tbody tr th {\n",
       "        vertical-align: top;\n",
       "    }\n",
       "\n",
       "    .dataframe thead th {\n",
       "        text-align: right;\n",
       "    }\n",
       "</style>\n",
       "<table border=\"1\" class=\"dataframe\">\n",
       "  <thead>\n",
       "    <tr style=\"text-align: right;\">\n",
       "      <th></th>\n",
       "      <th>cleaned_text</th>\n",
       "      <th>topic_hl</th>\n",
       "      <th>inference</th>\n",
       "    </tr>\n",
       "  </thead>\n",
       "  <tbody>\n",
       "    <tr>\n",
       "      <th>0</th>\n",
       "      <td>So excited to get this delivery from the posti...</td>\n",
       "      <td>Customer Service</td>\n",
       "      <td>[{'label': 'Customer Service', 'score': 0.9998...</td>\n",
       "    </tr>\n",
       "    <tr>\n",
       "      <th>1</th>\n",
       "      <td>#royalmail  chief lost his job after #loosing ...</td>\n",
       "      <td>Customer Service</td>\n",
       "      <td>[{'label': 'Customer Service', 'score': 0.9998...</td>\n",
       "    </tr>\n",
       "    <tr>\n",
       "      <th>2</th>\n",
       "      <td>#RoyalMail are “in”</td>\n",
       "      <td>Customer Service</td>\n",
       "      <td>[{'label': 'Customer Service', 'score': 0.9998...</td>\n",
       "    </tr>\n",
       "    <tr>\n",
       "      <th>3</th>\n",
       "      <td>Oh no a crappy, archaic service provider is pr...</td>\n",
       "      <td>Customer Service</td>\n",
       "      <td>[{'label': 'Customer Service', 'score': 0.9998...</td>\n",
       "    </tr>\n",
       "    <tr>\n",
       "      <th>4</th>\n",
       "      <td>Yesterday we got three items of junk mail - on...</td>\n",
       "      <td>Customer Service</td>\n",
       "      <td>[{'label': 'Customer Service', 'score': 0.9998...</td>\n",
       "    </tr>\n",
       "    <tr>\n",
       "      <th>...</th>\n",
       "      <td>...</td>\n",
       "      <td>...</td>\n",
       "      <td>...</td>\n",
       "    </tr>\n",
       "    <tr>\n",
       "      <th>520</th>\n",
       "      <td>#Investor revolt over #RoyalMail boss's pay de...</td>\n",
       "      <td>Politics</td>\n",
       "      <td>[{'label': 'Politics', 'score': 0.998632848262...</td>\n",
       "    </tr>\n",
       "    <tr>\n",
       "      <th>521</th>\n",
       "      <td>#RoyalMail in talks to permanently ditch Satur...</td>\n",
       "      <td>Customer Service</td>\n",
       "      <td>[{'label': 'Customer Service', 'score': 0.9998...</td>\n",
       "    </tr>\n",
       "    <tr>\n",
       "      <th>522</th>\n",
       "      <td>@RichardpanterH1 @lucyeyeington Totally agree ...</td>\n",
       "      <td>Customer Service</td>\n",
       "      <td>[{'label': 'Customer Service', 'score': 0.9998...</td>\n",
       "    </tr>\n",
       "    <tr>\n",
       "      <th>523</th>\n",
       "      <td>Royal Mail are taking the royal biscuit tbh</td>\n",
       "      <td>Customer Service</td>\n",
       "      <td>[{'label': 'Customer Service', 'score': 0.9998...</td>\n",
       "    </tr>\n",
       "    <tr>\n",
       "      <th>524</th>\n",
       "      <td>#borisjohnson we are now a country without a p...</td>\n",
       "      <td>Customer Service</td>\n",
       "      <td>[{'label': 'Customer Service', 'score': 0.9998...</td>\n",
       "    </tr>\n",
       "  </tbody>\n",
       "</table>\n",
       "<p>525 rows × 3 columns</p>\n",
       "</div>"
      ],
      "text/plain": [
       "                                          cleaned_text          topic_hl  \\\n",
       "0    So excited to get this delivery from the posti...  Customer Service   \n",
       "1    #royalmail  chief lost his job after #loosing ...  Customer Service   \n",
       "2                                 #RoyalMail are “in”   Customer Service   \n",
       "3    Oh no a crappy, archaic service provider is pr...  Customer Service   \n",
       "4    Yesterday we got three items of junk mail - on...  Customer Service   \n",
       "..                                                 ...               ...   \n",
       "520  #Investor revolt over #RoyalMail boss's pay de...          Politics   \n",
       "521  #RoyalMail in talks to permanently ditch Satur...  Customer Service   \n",
       "522  @RichardpanterH1 @lucyeyeington Totally agree ...  Customer Service   \n",
       "523        Royal Mail are taking the royal biscuit tbh  Customer Service   \n",
       "524  #borisjohnson we are now a country without a p...  Customer Service   \n",
       "\n",
       "                                             inference  \n",
       "0    [{'label': 'Customer Service', 'score': 0.9998...  \n",
       "1    [{'label': 'Customer Service', 'score': 0.9998...  \n",
       "2    [{'label': 'Customer Service', 'score': 0.9998...  \n",
       "3    [{'label': 'Customer Service', 'score': 0.9998...  \n",
       "4    [{'label': 'Customer Service', 'score': 0.9998...  \n",
       "..                                                 ...  \n",
       "520  [{'label': 'Politics', 'score': 0.998632848262...  \n",
       "521  [{'label': 'Customer Service', 'score': 0.9998...  \n",
       "522  [{'label': 'Customer Service', 'score': 0.9998...  \n",
       "523  [{'label': 'Customer Service', 'score': 0.9998...  \n",
       "524  [{'label': 'Customer Service', 'score': 0.9998...  \n",
       "\n",
       "[525 rows x 3 columns]"
      ]
     },
     "execution_count": 27,
     "metadata": {},
     "output_type": "execute_result"
    }
   ],
   "source": [
    "test_prediction_df"
   ]
  },
  {
   "cell_type": "markdown",
   "id": "cc59b97d-21c9-4822-9b27-82c7be2b55dc",
   "metadata": {},
   "source": [
    "# Model Convergence Plots"
   ]
  },
  {
   "cell_type": "code",
   "execution_count": 49,
   "id": "7d220a94-e047-497f-bb7e-67a6acce49aa",
   "metadata": {},
   "outputs": [],
   "source": [
    "import requests\n",
    "import json\n",
    "\n",
    "def load_json_file(url):\n",
    "    response = requests.get(url)\n",
    "    json_obj = json.loads(response.text)\n",
    "    return json_obj\n",
    "\n",
    "\n",
    "def load_json_file_local(file_path):\n",
    "    with open(file_path, 'r') as file:\n",
    "        json_obj = json.load(file)\n",
    "    return json_obj\n"
   ]
  },
  {
   "cell_type": "code",
   "execution_count": 50,
   "id": "27e44420-075f-46d3-ab0e-1b5a683e872b",
   "metadata": {},
   "outputs": [],
   "source": [
    "# distilbert\n",
    "filepath = r\"C:\\Users\\johna\\OneDrive\\Desktop\\models_twitter_dash\\output\\checkpoint-1000\\trainer_state.json\"\n",
    "roberta = load_json_file_local(filepath)\n"
   ]
  },
  {
   "cell_type": "code",
   "execution_count": 51,
   "id": "6e0f87dd-3cc0-4629-afee-8d1c970fb922",
   "metadata": {},
   "outputs": [],
   "source": [
    "def plot_eval_loss(json_obj, title):\n",
    "    # Extract the data for the plot\n",
    "    eval_loss = [entry['eval_loss'] for entry in json_obj['log_history'] if 'eval_loss' in entry]\n",
    "    train_loss = [entry['loss'] for entry in json_obj['log_history'] if 'loss' in entry]\n",
    "\n",
    "    step = [entry['step'] for entry in json_obj['log_history'] if 'eval_loss' in entry]\n",
    "    \n",
    "    # Create the plot using Seaborn\n",
    "    sns.set_style(\"darkgrid\")\n",
    "    plt.plot(step, eval_loss, label='Evaluation Loss')\n",
    "    plt.plot(step, train_loss, label='Training Loss')\n",
    "    plt.title(f'Evaluation and Training Loss vs Step: {title}')\n",
    "    plt.xlabel('Step')\n",
    "    plt.ylabel('Loss')\n",
    "    plt.legend()\n",
    "    plt.savefig(r'C:\\Users\\johna\\anaconda3\\envs\\twitter-env-2\\Data\\03 Reports\\convergence_v2' + title + '.png')\n",
    "    plt.show()\n"
   ]
  },
  {
   "cell_type": "code",
   "execution_count": 53,
   "id": "6dc72210-9813-4eb8-8e09-e5c1da2ea4c9",
   "metadata": {},
   "outputs": [
    {
     "data": {
      "image/png": "[encoded data removed]",
      "text/plain": [
       "<Figure size 640x480 with 1 Axes>"
      ]
     },
     "metadata": {},
     "output_type": "display_data"
    }
   ],
   "source": [
    "plot_eval_loss(roberta, title=\"roberta\")"
   ]
  },
  {
   "cell_type": "code",
   "execution_count": null,
   "id": "7fc911cf-590b-4f74-89ba-3a04c341871d",
   "metadata": {},
   "outputs": [],
   "source": []
  }
 ],
 "metadata": {
  "kernelspec": {
   "display_name": "Python 3 (ipykernel)",
   "language": "python",
   "name": "python3"
  },
  "language_info": {
   "codemirror_mode": {
    "name": "ipython",
    "version": 3
   },
   "file_extension": ".py",
   "mimetype": "text/x-python",
   "name": "python",
   "nbconvert_exporter": "python",
   "pygments_lexer": "ipython3",
   "version": "3.9.16"
  }
 },
 "nbformat": 4,
 "nbformat_minor": 5
}
