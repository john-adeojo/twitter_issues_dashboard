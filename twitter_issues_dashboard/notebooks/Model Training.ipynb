{
 "cells": [
  {
   "cell_type": "code",
   "execution_count": 4,
   "id": "d2dbef61-fda6-4ab2-b20c-c3e52c887378",
   "metadata": {
    "tags": []
   },
   "outputs": [],
   "source": [
    "import os\n",
    "import sys\n",
    "\n",
    "notebook_dir = os.path.dirname(os.path.abspath(\"__file__\"))\n",
    "project_dir = os.path.dirname(notebook_dir)\n",
    "\n",
    "if project_dir not in sys.path:\n",
    "    sys.path.append(project_dir)"
   ]
  },
  {
   "cell_type": "code",
   "execution_count": 7,
   "id": "7743c783-0f05-414c-99f2-26c2c88a82c5",
   "metadata": {
    "tags": []
   },
   "outputs": [
    {
     "data": {
      "text/html": [
       "<div>\n",
       "<style scoped>\n",
       "    .dataframe tbody tr th:only-of-type {\n",
       "        vertical-align: middle;\n",
       "    }\n",
       "\n",
       "    .dataframe tbody tr th {\n",
       "        vertical-align: top;\n",
       "    }\n",
       "\n",
       "    .dataframe thead th {\n",
       "        text-align: right;\n",
       "    }\n",
       "</style>\n",
       "<table border=\"1\" class=\"dataframe\">\n",
       "  <thead>\n",
       "    <tr style=\"text-align: right;\">\n",
       "      <th></th>\n",
       "      <th>topic_hl_encoded</th>\n",
       "      <th>topic_hl</th>\n",
       "    </tr>\n",
       "  </thead>\n",
       "  <tbody>\n",
       "    <tr>\n",
       "      <th>0</th>\n",
       "      <td>0</td>\n",
       "      <td>Customer Service</td>\n",
       "    </tr>\n",
       "    <tr>\n",
       "      <th>1938</th>\n",
       "      <td>6</td>\n",
       "      <td>Royal Reply</td>\n",
       "    </tr>\n",
       "    <tr>\n",
       "      <th>2004</th>\n",
       "      <td>4</td>\n",
       "      <td>Politics</td>\n",
       "    </tr>\n",
       "    <tr>\n",
       "      <th>2115</th>\n",
       "      <td>5</td>\n",
       "      <td>Royal Mail Jobs</td>\n",
       "    </tr>\n",
       "    <tr>\n",
       "      <th>2207</th>\n",
       "      <td>1</td>\n",
       "      <td>Finance News</td>\n",
       "    </tr>\n",
       "    <tr>\n",
       "      <th>2386</th>\n",
       "      <td>2</td>\n",
       "      <td>Philately</td>\n",
       "    </tr>\n",
       "    <tr>\n",
       "      <th>2409</th>\n",
       "      <td>3</td>\n",
       "      <td>Politcs</td>\n",
       "    </tr>\n",
       "  </tbody>\n",
       "</table>\n",
       "</div>"
      ],
      "text/plain": [
       "      topic_hl_encoded          topic_hl\n",
       "0                    0  Customer Service\n",
       "1938                 6       Royal Reply\n",
       "2004                 4          Politics\n",
       "2115                 5   Royal Mail Jobs\n",
       "2207                 1      Finance News\n",
       "2386                 2         Philately\n",
       "2409                 3           Politcs"
      ]
     },
     "execution_count": 7,
     "metadata": {},
     "output_type": "execute_result"
    }
   ],
   "source": [
    "import pandas as pd\n",
    "df_a = pd.read_csv(r\"C:\\Users\\johna\\anaconda3\\envs\\twitter-analytics-env\\twitter_issues_dashboard\\twitter_issues_dashboard\\data\\02_intermediate\\training_data.csv\")\n",
    "mapping = pd.read_csv(r\"C:\\Users\\johna\\anaconda3\\envs\\twitter-analytics-env\\twitter_issues_dashboard\\twitter_issues_dashboard\\data\\02_intermediate\\topic_mapping.csv\")\n",
    "\n",
    "df = df_a.merge(right=mapping, how='inner', right_on='topic_sortedc_str', left_on='topic_sortedc_str')[['cleaned_text', 'topic_hl']]\n",
    "df['topic_hl_encoded'] = df['topic_hl'].astype(\"category\").cat.codes\n",
    "df[['topic_hl_encoded', 'topic_hl']].drop_duplicates()\n",
    "# .to_csv(r\"C:\\Users\\johna\\anaconda3\\envs\\twitter-analytics-env\\twitter_issues_dashboard\\twitter_issues_dashboard\\data\\02_intermediate\\topic_encoding.csv\")"
   ]
  },
  {
   "cell_type": "code",
   "execution_count": 6,
   "id": "369711de-0d1a-4222-8233-4b14641ad81b",
   "metadata": {
    "tags": []
   },
   "outputs": [
    {
     "name": "stderr",
     "output_type": "stream",
     "text": [
      "C:\\Users\\johna\\anaconda3\\envs\\twitter-analytics-env\\lib\\site-packages\\tqdm\\auto.py:22: TqdmWarning: IProgress not found. Please update jupyter and ipywidgets. See https://ipywidgets.readthedocs.io/en/stable/user_install.html\n",
      "  from .autonotebook import tqdm as notebook_tqdm\n"
     ]
    }
   ],
   "source": [
    "from machine_learning.preprocess_ml import DataPipeline"
   ]
  },
  {
   "cell_type": "code",
   "execution_count": 7,
   "id": "5f0983aa-17a9-4947-b405-e93db5695d06",
   "metadata": {
    "tags": []
   },
   "outputs": [],
   "source": [
    "pipeline = DataPipeline(df, target_col='topic_hl_encoded', model='cardiffnlp/twitter-xlm-roberta-base')\n",
    "train_loader = pipeline.get_train_data(batch_size=16)\n",
    "val_loader = pipeline.get_val_data(batch_size=16)\n",
    "test_loader = pipeline.get_test_data(batch_size=16)"
   ]
  },
  {
   "cell_type": "code",
   "execution_count": 5,
   "id": "d0b4eede-d873-421e-8900-84ec1d8f7f76",
   "metadata": {
    "tags": []
   },
   "outputs": [],
   "source": [
    "from machine_learning.train_models import TransformerFineTuner"
   ]
  },
  {
   "cell_type": "code",
   "execution_count": 1,
   "id": "1fb869b4-9000-40f2-a96d-56f970388c75",
   "metadata": {
    "tags": []
   },
   "outputs": [],
   "source": [
    "output_dir = r\"C:\\Users\\johna\\OneDrive\\Desktop\\models_twitter_dash\\output\"\n",
    "logging_dir = r\"C:\\Users\\johna\\OneDrive\\Desktop\\models_twitter_dash\\logging\"\n",
    "\n",
    "# transformer_fine_tuner = TransformerFineTuner(train_loader, val_loader, 'cardiffnlp/twitter-roberta-base', 3, output_dir, logging_dir)\n",
    "# transformer_fine_tuner.train()"
   ]
  },
  {
   "cell_type": "code",
   "execution_count": 2,
   "id": "587ec1ad-5e60-41fb-b6d2-ebcce1f8ee24",
   "metadata": {},
   "outputs": [
    {
     "name": "stdout",
     "output_type": "stream",
     "text": [
      "CUDA is available on NVIDIA GeForce RTX 2060\n"
     ]
    }
   ],
   "source": [
    "import torch\n",
    "\n",
    "if torch.cuda.is_available():\n",
    "    device = torch.device(\"cuda\")\n",
    "    print(\"CUDA is available on\", torch.cuda.get_device_name())\n",
    "else:\n",
    "    device = torch.device(\"cpu\")\n",
    "    print(\"CUDA is not available, using CPU instead.\")\n"
   ]
  },
  {
   "cell_type": "code",
   "execution_count": 50,
   "id": "a3237c33-d225-466f-a4db-81e535ed3260",
   "metadata": {
    "tags": []
   },
   "outputs": [
    {
     "ename": "AttributeError",
     "evalue": "'TextClassificationDataset' object has no attribute 'get'",
     "output_type": "error",
     "traceback": [
      "\u001b[1;31m---------------------------------------------------------------------------\u001b[0m",
      "\u001b[1;31mAttributeError\u001b[0m                            Traceback (most recent call last)",
      "Cell \u001b[1;32mIn[50], line 1\u001b[0m\n\u001b[1;32m----> 1\u001b[0m \u001b[43mtrain_loader\u001b[49m\u001b[38;5;241;43m.\u001b[39;49m\u001b[43mdataset\u001b[49m\u001b[38;5;241;43m.\u001b[39;49m\u001b[43mget\u001b[49m(\u001b[38;5;124m'\u001b[39m\u001b[38;5;124mtarget\u001b[39m\u001b[38;5;124m'\u001b[39m)\n",
      "\u001b[1;31mAttributeError\u001b[0m: 'TextClassificationDataset' object has no attribute 'get'"
     ]
    }
   ],
   "source": [
    "train_loader.dataset.get('target')\n"
   ]
  },
  {
   "cell_type": "code",
   "execution_count": 57,
   "id": "e8b7d150-5a30-4c0e-ad9b-808a68c56835",
   "metadata": {
    "tags": []
   },
   "outputs": [
    {
     "name": "stdout",
     "output_type": "stream",
     "text": [
      "tensor(6, dtype=torch.int8)\n"
     ]
    }
   ],
   "source": [
    "# train_loader = pipeline.get_train_data(batch_size=16)"
   ]
  },
  {
   "cell_type": "code",
   "execution_count": null,
   "id": "f7c9dd9d-de6a-4084-a51d-ff61aaa73ed9",
   "metadata": {},
   "outputs": [],
   "source": []
  }
 ],
 "metadata": {
  "kernelspec": {
   "display_name": "Python 3 (ipykernel)",
   "language": "python",
   "name": "python3"
  },
  "language_info": {
   "codemirror_mode": {
    "name": "ipython",
    "version": 3
   },
   "file_extension": ".py",
   "mimetype": "text/x-python",
   "name": "python",
   "nbconvert_exporter": "python",
   "pygments_lexer": "ipython3",
   "version": "3.9.16"
  }
 },
 "nbformat": 4,
 "nbformat_minor": 5
}
