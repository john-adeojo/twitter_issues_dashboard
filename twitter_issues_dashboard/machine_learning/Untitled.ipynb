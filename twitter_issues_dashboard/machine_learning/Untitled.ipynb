{
 "cells": [
  {
   "cell_type": "code",
   "execution_count": 1,
   "id": "0f23461c-263e-4dd8-9913-a8a1ab8448d1",
   "metadata": {
    "tags": []
   },
   "outputs": [
    {
     "name": "stderr",
     "output_type": "stream",
     "text": [
      "C:\\Users\\johna\\anaconda3\\envs\\twitter-analytics-env\\lib\\site-packages\\tqdm\\auto.py:22: TqdmWarning: IProgress not found. Please update jupyter and ipywidgets. See https://ipywidgets.readthedocs.io/en/stable/user_install.html\n",
      "  from .autonotebook import tqdm as notebook_tqdm\n",
      "Asking to truncate to max_length but no maximum length is provided and the model has no predefined maximum length. Default to no truncation.\n"
     ]
    }
   ],
   "source": [
    "import os\n",
    "import sys\n",
    "import pandas as pd\n",
    "import torch\n",
    "notebook_dir = os.path.dirname(os.path.abspath(\"__file__\"))\n",
    "project_dir = os.path.dirname(notebook_dir)\n",
    "\n",
    "if project_dir not in sys.path:\n",
    "    sys.path.append(project_dir)\n",
    "    \n",
    "from machine_learning.preprocess_ml import DataPipeline\n",
    "from machine_learning.train_models import TransformerFineTuner\n",
    "    \n",
    "# load data\n",
    "df_a = pd.read_csv(r\"C:\\Users\\johna\\anaconda3\\envs\\twitter-analytics-env\\twitter_issues_dashboard\\twitter_issues_dashboard\\data\\02_intermediate\\training_data.csv\")\n",
    "mapping = pd.read_csv(r\"C:\\Users\\johna\\anaconda3\\envs\\twitter-analytics-env\\twitter_issues_dashboard\\twitter_issues_dashboard\\data\\02_intermediate\\topic_mapping.csv\")\n",
    "\n",
    "df = df_a.merge(right=mapping, how='inner', right_on='topic_sortedc_str', left_on='topic_sortedc_str')[['cleaned_text', 'topic_hl']]\n",
    "df['topic_hl_encoded'] = df['topic_hl'].astype(\"category\").cat.codes\n",
    "\n",
    "\n",
    "# prepare data sets\n",
    "pipeline = DataPipeline(df, target_col='topic_hl_encoded', text='cleaned_text', model='cardiffnlp/twitter-roberta-base')\n",
    "train_loader = pipeline.get_train_data()\n",
    "val_loader = pipeline.get_val_data()\n",
    "test_loader = pipeline.get_test_data()"
   ]
  },
  {
   "cell_type": "code",
   "execution_count": 7,
   "id": "2656faab-1d5a-48e2-9bd1-ffea97dfdec0",
   "metadata": {
    "tags": []
   },
   "outputs": [
    {
     "data": {
      "text/plain": [
       "<machine_learning.preprocess_ml.TextClassificationDataset at 0x195bb4b1730>"
      ]
     },
     "execution_count": 7,
     "metadata": {},
     "output_type": "execute_result"
    }
   ],
   "source": [
    "test_loader.s"
   ]
  },
  {
   "cell_type": "code",
   "execution_count": null,
   "id": "505513f0-1b3a-4b02-9047-b4e3bd5860c1",
   "metadata": {},
   "outputs": [],
   "source": []
  }
 ],
 "metadata": {
  "kernelspec": {
   "display_name": "Python 3 (ipykernel)",
   "language": "python",
   "name": "python3"
  },
  "language_info": {
   "codemirror_mode": {
    "name": "ipython",
    "version": 3
   },
   "file_extension": ".py",
   "mimetype": "text/x-python",
   "name": "python",
   "nbconvert_exporter": "python",
   "pygments_lexer": "ipython3",
   "version": "3.9.16"
  }
 },
 "nbformat": 4,
 "nbformat_minor": 5
}
