{
 "cells": [
  {
   "cell_type": "code",
   "execution_count": 1,
   "id": "0f23461c-263e-4dd8-9913-a8a1ab8448d1",
   "metadata": {
    "tags": []
   },
   "outputs": [
    {
     "name": "stderr",
     "output_type": "stream",
     "text": [
      "C:\\Users\\johna\\anaconda3\\envs\\twitter-analytics-env\\lib\\site-packages\\tqdm\\auto.py:22: TqdmWarning: IProgress not found. Please update jupyter and ipywidgets. See https://ipywidgets.readthedocs.io/en/stable/user_install.html\n",
      "  from .autonotebook import tqdm as notebook_tqdm\n",
      "Asking to truncate to max_length but no maximum length is provided and the model has no predefined maximum length. Default to no truncation.\n"
     ]
    }
   ],
   "source": [
    "import os\n",
    "import sys\n",
    "import pandas as pd\n",
    "import torch\n",
    "notebook_dir = os.path.dirname(os.path.abspath(\"__file__\"))\n",
    "project_dir = os.path.dirname(notebook_dir)\n",
    "\n",
    "if project_dir not in sys.path:\n",
    "    sys.path.append(project_dir)\n",
    "    \n",
    "from machine_learning.preprocess_ml import DataPipeline\n",
    "from machine_learning.train_models import TransformerFineTuner\n",
    "    \n",
    "# load data\n",
    "df_a = pd.read_csv(r\"C:\\Users\\johna\\anaconda3\\envs\\twitter-analytics-env\\twitter_issues_dashboard\\twitter_issues_dashboard\\data\\02_intermediate\\training_data.csv\")\n",
    "mapping = pd.read_csv(r\"C:\\Users\\johna\\anaconda3\\envs\\twitter-analytics-env\\twitter_issues_dashboard\\twitter_issues_dashboard\\data\\02_intermediate\\topic_mapping.csv\")\n",
    "\n",
    "df = df_a.merge(right=mapping, how='inner', right_on='topic_sortedc_str', left_on='topic_sortedc_str')[['cleaned_text', 'topic_hl']]\n",
    "df['topic_hl_encoded'] = df['topic_hl'].astype(\"category\").cat.codes\n",
    "\n",
    "\n",
    "# prepare data sets\n",
    "pipeline = DataPipeline(df, target_col='topic_hl_encoded', text='cleaned_text', model='cardiffnlp/twitter-roberta-base')\n",
    "train_loader = pipeline.get_train_data()\n",
    "val_loader = pipeline.get_val_data()\n",
    "test_loader = pipeline.get_test_data()"
   ]
  },
  {
   "cell_type": "code",
   "execution_count": 41,
   "id": "2656faab-1d5a-48e2-9bd1-ffea97dfdec0",
   "metadata": {
    "tags": []
   },
   "outputs": [],
   "source": [
    "from collections import Counter\n",
    "\n",
    "# Define a dictionary to store the frequency of each class label\n",
    "class_counts = Counter()\n",
    "\n",
    "# Loop through the train_loader to count the frequency of each class label\n",
    "for data in train_loader:\n",
    "    # Get the class label for this data point\n",
    "    label = data['labels']\n",
    "    # Update the frequency count for this label\n",
    "    class_counts[label] += 1\n",
    "\n",
    "# Calculate the total number of data points in the dataset\n",
    "total_count = sum(class_counts.values())\n",
    "\n",
    "# Calculate the weight of each class label as the inverse of its frequency\n",
    "class_weights = {label: total_count / (count * 6) for label, count in class_counts.items()}\n"
   ]
  },
  {
   "cell_type": "code",
   "execution_count": 47,
   "id": "9d373db2-bed6-44d3-b02d-d4ee2b636ad5",
   "metadata": {
    "tags": []
   },
   "outputs": [
    {
     "ename": "TypeError",
     "evalue": "'int' object is not iterable",
     "output_type": "error",
     "traceback": [
      "\u001b[1;31m---------------------------------------------------------------------------\u001b[0m",
      "\u001b[1;31mTypeError\u001b[0m                                 Traceback (most recent call last)",
      "Cell \u001b[1;32mIn[47], line 10\u001b[0m\n\u001b[0;32m      8\u001b[0m y_train \u001b[38;5;241m=\u001b[39m []\n\u001b[0;32m      9\u001b[0m \u001b[38;5;28;01mfor\u001b[39;00m batch \u001b[38;5;129;01min\u001b[39;00m train_loader:\n\u001b[1;32m---> 10\u001b[0m     y_train \u001b[38;5;241m+\u001b[39m\u001b[38;5;241m=\u001b[39m batch[\u001b[38;5;124m\"\u001b[39m\u001b[38;5;124mlabels\u001b[39m\u001b[38;5;124m\"\u001b[39m]\u001b[38;5;241m.\u001b[39mcpu()\u001b[38;5;241m.\u001b[39mnumpy()\u001b[38;5;241m.\u001b[39mtolist()\n\u001b[0;32m     12\u001b[0m class_weights \u001b[38;5;241m=\u001b[39m compute_class_weight(\u001b[38;5;124m'\u001b[39m\u001b[38;5;124mbalanced\u001b[39m\u001b[38;5;124m'\u001b[39m, classes\u001b[38;5;241m=\u001b[39m\u001b[38;5;28mrange\u001b[39m(num_classes), y\u001b[38;5;241m=\u001b[39my_train)\n\u001b[0;32m     13\u001b[0m class_weights \u001b[38;5;241m=\u001b[39m torch\u001b[38;5;241m.\u001b[39mtensor(class_weights, dtype\u001b[38;5;241m=\u001b[39mtorch\u001b[38;5;241m.\u001b[39mfloat)\n",
      "\u001b[1;31mTypeError\u001b[0m: 'int' object is not iterable"
     ]
    }
   ],
   "source": [
    "import torch\n",
    "from sklearn.utils.class_weight import compute_class_weight\n",
    "\n",
    "# Assuming your dataset has 6 classes\n",
    "num_classes = 6\n",
    "\n",
    "# Assuming your training data is stored in a PyTorch DataLoader called \"train_loader\"\n",
    "y_train = []\n",
    "for batch in train_loader:\n",
    "    y_train += batch[\"labels\"].cpu().numpy().tolist()\n",
    "\n",
    "class_weights = compute_class_weight('balanced', classes=range(num_classes), y=y_train)\n",
    "class_weights = torch.tensor(class_weights, dtype=torch.float)\n"
   ]
  },
  {
   "cell_type": "code",
   "execution_count": 10,
   "id": "505513f0-1b3a-4b02-9047-b4e3bd5860c1",
   "metadata": {},
   "outputs": [
    {
     "name": "stdout",
     "output_type": "stream",
     "text": [
      "dict_keys(['input_ids', 'attention_mask', 'labels'])\n"
     ]
    }
   ],
   "source": [
    "sample_data = train_loader[0]\n",
    "print(sample_data.keys())\n"
   ]
  },
  {
   "cell_type": "code",
   "execution_count": 51,
   "id": "9933ead9-b320-4e09-95c5-9dc563f93835",
   "metadata": {
    "tags": []
   },
   "outputs": [
    {
     "ename": "AttributeError",
     "evalue": "'list' object has no attribute 'sum'",
     "output_type": "error",
     "traceback": [
      "\u001b[1;31m---------------------------------------------------------------------------\u001b[0m",
      "\u001b[1;31mAttributeError\u001b[0m                            Traceback (most recent call last)",
      "Cell \u001b[1;32mIn[51], line 2\u001b[0m\n\u001b[0;32m      1\u001b[0m class_counts \u001b[38;5;241m=\u001b[39m [\u001b[38;5;241m1240\u001b[39m, \u001b[38;5;241m94\u001b[39m, \u001b[38;5;241m74\u001b[39m, \u001b[38;5;241m78\u001b[39m, \u001b[38;5;241m114\u001b[39m, \u001b[38;5;241m78\u001b[39m]\n\u001b[1;32m----> 2\u001b[0m total_samples \u001b[38;5;241m=\u001b[39m \u001b[43mclass_counts\u001b[49m\u001b[38;5;241;43m.\u001b[39;49m\u001b[43msum\u001b[49m()\n\u001b[0;32m      3\u001b[0m class_weights \u001b[38;5;241m=\u001b[39m [total_samples \u001b[38;5;241m/\u001b[39m count \u001b[38;5;28;01mfor\u001b[39;00m count \u001b[38;5;129;01min\u001b[39;00m class_counts]\n\u001b[0;32m      4\u001b[0m class_weights \u001b[38;5;241m=\u001b[39m class_weights \u001b[38;5;241m/\u001b[39m class_weights\u001b[38;5;241m.\u001b[39mmax()\n",
      "\u001b[1;31mAttributeError\u001b[0m: 'list' object has no attribute 'sum'"
     ]
    }
   ],
   "source": [
    "class_counts = ndar[1240, 94, 74, 78, 114, 78]\n",
    "total_samples = class_counts.sum()\n",
    "class_weights = [total_samples / count for count in class_counts]\n",
    "class_weights = class_weights / class_weights.max()\n"
   ]
  },
  {
   "cell_type": "code",
   "execution_count": 49,
   "id": "1e1a0263-5bc1-477e-9163-035c2796e847",
   "metadata": {
    "tags": []
   },
   "outputs": [
    {
     "data": {
      "text/plain": [
       "tensor([0.0597, 0.7872, 1.0000, 0.9487, 0.6491, 0.9487])"
      ]
     },
     "execution_count": 49,
     "metadata": {},
     "output_type": "execute_result"
    }
   ],
   "source": [
    "class_weights "
   ]
  },
  {
   "cell_type": "code",
   "execution_count": 36,
   "id": "8442fd28-69da-4f91-8bc1-93398fcce18a",
   "metadata": {
    "tags": []
   },
   "outputs": [],
   "source": [
    "label = int(train_loader[700]['labels'])\n"
   ]
  },
  {
   "cell_type": "code",
   "execution_count": 37,
   "id": "1c868399-ae3b-4e55-959c-9d21d51c9cbb",
   "metadata": {
    "tags": []
   },
   "outputs": [
    {
     "data": {
      "text/plain": [
       "0"
      ]
     },
     "execution_count": 37,
     "metadata": {},
     "output_type": "execute_result"
    }
   ],
   "source": [
    "label"
   ]
  },
  {
   "cell_type": "code",
   "execution_count": 52,
   "id": "26868541-1993-4b15-aee6-b2b536981567",
   "metadata": {
    "tags": []
   },
   "outputs": [],
   "source": [
    "from machine_learning.customer_trainer import CustomTrainer\n"
   ]
  },
  {
   "cell_type": "code",
   "execution_count": null,
   "id": "ceae147a-5f4b-466e-a191-1d9de1614fd1",
   "metadata": {},
   "outputs": [],
   "source": []
  }
 ],
 "metadata": {
  "kernelspec": {
   "display_name": "Python 3 (ipykernel)",
   "language": "python",
   "name": "python3"
  },
  "language_info": {
   "codemirror_mode": {
    "name": "ipython",
    "version": 3
   },
   "file_extension": ".py",
   "mimetype": "text/x-python",
   "name": "python",
   "nbconvert_exporter": "python",
   "pygments_lexer": "ipython3",
   "version": "3.9.16"
  }
 },
 "nbformat": 4,
 "nbformat_minor": 5
}
